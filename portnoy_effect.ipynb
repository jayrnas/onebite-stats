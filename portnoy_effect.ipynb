{
 "cells": [
  {
   "cell_type": "code",
   "execution_count": null,
   "id": "474d4963",
   "metadata": {},
   "outputs": [],
   "source": [
    "import os\n",
    "from dotenv import load_dotenv\n",
    "from bs4 import BeautifulSoup\n",
    "from concurrent.futures import ThreadPoolExecutor\n",
    "import matplotlib.pyplot as plt\n",
    "import numpy as np\n",
    "import pandas as pd\n",
    "import requests"
   ]
  },
  {
   "cell_type": "code",
   "execution_count": null,
   "id": "61fc3748",
   "metadata": {},
   "outputs": [],
   "source": [
    "load_dotenv()\n",
    "\n",
    "YELP_API_KEY = os.environ['YELP_API_KEY']\n",
    "YELP_SEARCH_API_URL = 'https://api.yelp.com/v3/businesses/search'"
   ]
  },
  {
   "cell_type": "code",
   "execution_count": null,
   "id": "06b2aaba",
   "metadata": {},
   "outputs": [],
   "source": [
    "%store -r pres_df"
   ]
  },
  {
   "cell_type": "code",
   "execution_count": null,
   "id": "b3173ee8",
   "metadata": {},
   "outputs": [],
   "source": [
    "def get_business_id(title, location, verbose=False):\n",
    "    \n",
    "    if title.endswith('...'):\n",
    "        short_title = title[:-3]\n",
    "    else:\n",
    "        short_title = title\n",
    "\n",
    "    headers = {'Authorization': f'Bearer {YELP_API_KEY}'}\n",
    "    params = {\n",
    "        'term': short_title,\n",
    "        'location': location\n",
    "    }\n",
    "    \n",
    "    response = requests.get(YELP_SEARCH_API_URL, headers=headers, params=params, timeout=5)\n",
    "    \n",
    "    response_json = response.json()\n",
    "\n",
    "    if response_json['businesses']:\n",
    "        return response_json['businesses'][0]['id']\n",
    "    else:\n",
    "        if verbose:\n",
    "            print(title)\n",
    "            print(response_json)\n",
    "        return"
   ]
  },
  {
   "cell_type": "code",
   "execution_count": null,
   "id": "f3fa14bd",
   "metadata": {
    "scrolled": true
   },
   "outputs": [],
   "source": [
    "pres_df['business_id'] = pres_df.apply(lambda x: get_business_id(x.title, x.location), axis=1)"
   ]
  },
  {
   "cell_type": "code",
   "execution_count": null,
   "id": "9bf755a1",
   "metadata": {},
   "outputs": [],
   "source": [
    "top_20_ids = list(pres_df[(~pres_df['business_id'].isnull()) & (pres_df['timestamp'] > '2017-01-01')].nlargest(20, 'rating').business_id)"
   ]
  },
  {
   "cell_type": "code",
   "execution_count": null,
   "id": "b97ebd7c",
   "metadata": {},
   "outputs": [],
   "source": [
    "def get_reviews(business_id):\n",
    "    \n",
    "    review_ratings = []\n",
    "    review_timestamps = []\n",
    "\n",
    "    start_index = 0\n",
    "    \n",
    "    while True:\n",
    "        \n",
    "        url = f'https://www.yelp.com/biz/{business_id}'\n",
    "        params = {\n",
    "            'start': str(start_index)\n",
    "        }\n",
    "        \n",
    "        re = requests.get(url, params=params)\n",
    "\n",
    "        soup = BeautifulSoup(re.text, 'html.parser')\n",
    "\n",
    "        if start_index == 0:\n",
    "            page_nav_element = soup.select_one(\"div[class='pagination__09f24__VRjN4 border-color--default__09f24__NPAKY']\")\n",
    "            page_count_element = page_nav_element.select_one(\"div[class='border-color--default__09f24__NPAKY text-align--center__09f24__fYBGO']\")\n",
    "            num_pages = int(page_count_element.text.split('of ')[1])\n",
    "            max_start_index = 10 * (num_pages - 1)\n",
    "        \n",
    "        review_lis = soup.select(\"li[class='margin-b5__09f24__pTvws border-color--default__09f24__NPAKY']\")\n",
    "        review_divs = [li.select_one(\"div[class='margin-t1__09f24__w96jn margin-b1-5__09f24__NHcQi border-color--default__09f24__NPAKY']\") for li in review_lis]\n",
    "        \n",
    "        review_divs = [r for r in review_divs if r is not None]\n",
    "        \n",
    "        for review_div in review_divs:\n",
    "\n",
    "            rating_div = review_div.select_one(\"div[class='five-stars__09f24__mBKym five-stars--regular__09f24__DgBNj display--inline-block__09f24__fEDiJ border-color--default__09f24__NPAKY']\")\n",
    "            rating = int(rating_div['aria-label'].replace(' star rating', ''))\n",
    "\n",
    "            review_ratings.append(rating)\n",
    "            \n",
    "            timestamp_div = review_div.select_one(\"span[class='css-chan6m']\")\n",
    "\n",
    "            timestamp = pd.Timestamp(timestamp_div.text).date()\n",
    "\n",
    "            review_timestamps.append(timestamp)\n",
    "\n",
    "        start_index += 10\n",
    "        \n",
    "        if start_index > max_start_index:\n",
    "            break\n",
    "    \n",
    "    return list(zip(review_ratings, review_timestamps))"
   ]
  },
  {
   "cell_type": "code",
   "execution_count": null,
   "id": "63a97593",
   "metadata": {},
   "outputs": [],
   "source": [
    "def plot_pres_effect(business_id, pres_reviews=None, rolling_window=30, plot_ylim=(1, 5)):\n",
    "    \n",
    "    yelp_reviews = get_reviews(business_id)\n",
    "\n",
    "    raw_df = pd.DataFrame(yelp_reviews, columns=['rating', 'timestamp'])\n",
    "    raw_df['timestamp'] = pd.to_datetime(raw_df['timestamp'])\n",
    "    \n",
    "    df = pd.DataFrame(raw_df.groupby('timestamp').rating.mean()) # timestamp is the index for this df\n",
    "    \n",
    "    df['rolling_avg'] = df.rolling(rolling_window).mean()\n",
    "\n",
    "    freq_effect = pd.date_range(start=raw_df.timestamp.min(), end=raw_df.timestamp.max(), freq='D').to_series(name='daily')\n",
    "    yelp_reviews_by_day = raw_df.timestamp.value_counts().rename('yelp_value_counts')\n",
    "\n",
    "    freq_df = pd.concat([freq_effect, yelp_reviews_by_day], axis=1).drop(columns=['daily'])\n",
    "    freq_df.fillna(0, inplace=True)\n",
    "    freq_df['rolling_avg'] = freq_df.rolling(rolling_window).mean()\n",
    "    \n",
    "    fig, ax = plt.subplots(2, 1)\n",
    "    plt.subplots_adjust(hspace=1)\n",
    "    \n",
    "    ax[0].set_title(f'{rolling_window}-review rolling average review')\n",
    "    \n",
    "    ax[0].set_ylim(plot_ylim)\n",
    "    \n",
    "    ax[0].plot(df.index, df.rolling_avg)\n",
    "    \n",
    "    if pres_reviews is None:\n",
    "        pres_reviews = pres_df[pres_df['business_id'] == business_id][['timestamp', 'rating']]\n",
    "\n",
    "    ax[0].axvline(pres_reviews.timestamp, c='orange')\n",
    "    \n",
    "    ax[1].set_title(f'{rolling_window}-day rolling average per-day review frequency')\n",
    "    \n",
    "    ax[1].plot(freq_df.index, freq_df.rolling_avg)\n",
    "    ax[1].axvline(pres_reviews.timestamp, c='orange')\n",
    "    \n",
    "    plt.show()"
   ]
  },
  {
   "cell_type": "code",
   "execution_count": null,
   "id": "91aba436",
   "metadata": {
    "scrolled": false
   },
   "outputs": [],
   "source": [
    "with ThreadPoolExecutor(max_workers=1000) as p:\n",
    "\n",
    "    p.map(plot_pres_effect, top_20_ids)"
   ]
  }
 ],
 "metadata": {
  "kernelspec": {
   "display_name": "Python 3",
   "language": "python",
   "name": "python3"
  },
  "language_info": {
   "codemirror_mode": {
    "name": "ipython",
    "version": 3
   },
   "file_extension": ".py",
   "mimetype": "text/x-python",
   "name": "python",
   "nbconvert_exporter": "python",
   "pygments_lexer": "ipython3",
   "version": "3.8.8"
  }
 },
 "nbformat": 4,
 "nbformat_minor": 5
}

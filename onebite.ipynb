{
 "cells": [
  {
   "cell_type": "code",
   "execution_count": null,
   "id": "20196fff",
   "metadata": {},
   "outputs": [],
   "source": [
    "import numpy as np\n",
    "import pandas as pd\n",
    "import requests\n",
    "import time\n",
    "\n",
    "from bs4 import BeautifulSoup\n",
    "import matplotlib.pyplot as plt"
   ]
  },
  {
   "cell_type": "code",
   "execution_count": null,
   "id": "43d31333",
   "metadata": {},
   "outputs": [],
   "source": [
    "def parse_timestamp(timestamp):\n",
    "    if 'ago' in timestamp:\n",
    "        return (pd.Timestamp.today() - pd.Timedelta(timestamp.replace(' ago', ''))).date()\n",
    "    else:\n",
    "        return pd.to_datetime(timestamp).date()"
   ]
  },
  {
   "cell_type": "code",
   "execution_count": null,
   "id": "a127ca65",
   "metadata": {},
   "outputs": [],
   "source": [
    "states = pd.read_csv('state.csv')['Code']\n",
    "can_provinces = pd.read_csv('can_province.csv')['Code']"
   ]
  },
  {
   "cell_type": "code",
   "execution_count": null,
   "id": "a1f0bccf",
   "metadata": {
    "scrolled": false
   },
   "outputs": [],
   "source": [
    "review_scores = []\n",
    "review_titles = []\n",
    "review_locations = []\n",
    "review_users = []\n",
    "review_timestamps = []\n",
    "    \n",
    "page = 1\n",
    "start = time.time()\n",
    "\n",
    "while True:\n",
    "\n",
    "    re = requests.get(f'https://onebite.app/reviews?page={page}')\n",
    "    soup = BeautifulSoup(re.text, 'html.parser')\n",
    "\n",
    "    if soup.select(\"div[class*='errorContainer']\"):\n",
    "        print(f'error found on page {page}')\n",
    "        page += 1\n",
    "        continue\n",
    "\n",
    "    review_scores_elements = soup.select(\"p[class*='rating__score']\")\n",
    "    review_titles_elements = soup.select(\"h2[class*='reviewCard__title']\")\n",
    "    review_locations_elements = soup.select(\"p[class*='reviewCard__location']\")\n",
    "    review_users_elements = soup.select(\"p[class*='userMeta__username']\")\n",
    "    review_timestamps_elements = soup.select(\"p[class*='userMeta__timestamp']\")\n",
    "\n",
    "    for score in review_scores_elements:\n",
    "        review_scores.append(float(score.text))\n",
    "\n",
    "    for title in review_titles_elements:\n",
    "        review_titles.append(title.text)\n",
    "\n",
    "    for location in review_locations_elements:\n",
    "        review_locations.append(location.text)\n",
    "\n",
    "    for user in review_users_elements:\n",
    "        review_users.append(user.text.replace('Verified', ''))\n",
    "\n",
    "    for timestamp in review_timestamps_elements:\n",
    "        review_timestamps.append(parse_timestamp(timestamp.text))\n",
    "\n",
    "    if not soup.select(\"a[class*='btn--next']\"):\n",
    "        break\n",
    "        \n",
    "    if page % 1000 == 0:\n",
    "        print(page, re.text[:5])\n",
    "\n",
    "    page += 1\n",
    "\n",
    "end = time.time()\n",
    "end - start"
   ]
  },
  {
   "cell_type": "code",
   "execution_count": null,
   "id": "4577a849",
   "metadata": {},
   "outputs": [],
   "source": [
    "all_reviews_info = list(zip(review_titles, review_locations, review_users, review_timestamps, review_scores))\n",
    "\n",
    "df = pd.DataFrame(all_reviews_info, columns=['title', 'location', 'user', 'timestamp', 'rating'])"
   ]
  },
  {
   "cell_type": "code",
   "execution_count": null,
   "id": "4ee616d8",
   "metadata": {},
   "outputs": [],
   "source": [
    "df['city'] = df['location'].apply(lambda x: x.split(', ')[0])\n",
    "df['state-prov'] = df['location'].apply(lambda x: x.split(', ')[1])\n",
    "df.drop(columns=['location'], inplace=True)\n",
    "\n",
    "df = df[df['state-prov'].isin(states) | df['state-prov'].isin(can_provinces)]\n",
    "\n",
    "df = df[['title', 'city', 'state-prov', 'user', 'timestamp', 'rating']]"
   ]
  },
  {
   "cell_type": "code",
   "execution_count": null,
   "id": "14b387a0",
   "metadata": {},
   "outputs": [],
   "source": [
    "df.reset_index(inplace=True)"
   ]
  },
  {
   "cell_type": "code",
   "execution_count": null,
   "id": "2c300b5d",
   "metadata": {},
   "outputs": [],
   "source": [
    "df.to_csv('onebite_ratings.csv')"
   ]
  }
 ],
 "metadata": {
  "kernelspec": {
   "display_name": "Python 3",
   "language": "python",
   "name": "python3"
  },
  "language_info": {
   "codemirror_mode": {
    "name": "ipython",
    "version": 3
   },
   "file_extension": ".py",
   "mimetype": "text/x-python",
   "name": "python",
   "nbconvert_exporter": "python",
   "pygments_lexer": "ipython3",
   "version": "3.8.8"
  }
 },
 "nbformat": 4,
 "nbformat_minor": 5
}

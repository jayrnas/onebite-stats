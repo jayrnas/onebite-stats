{
 "cells": [
  {
   "cell_type": "code",
   "execution_count": null,
   "id": "2803af1a",
   "metadata": {
    "scrolled": true
   },
   "outputs": [],
   "source": [
    "import os\n",
    "from dotenv import load_dotenv\n",
    "import pandas as pd\n",
    "import matplotlib.pyplot as plt\n",
    "import numpy as np\n",
    "from matplotlib import cm\n",
    "from matplotlib.colors import ListedColormap\n",
    "from matplotlib.animation import FuncAnimation\n",
    "import geocoder\n",
    "import geopandas\n",
    "import random"
   ]
  },
  {
   "cell_type": "code",
   "execution_count": null,
   "id": "8058336c",
   "metadata": {},
   "outputs": [],
   "source": [
    "load_dotenv()\n",
    "\n",
    "MAPQUEST_API_KEY = os.environ['MAPQUEST_API_KEY']"
   ]
  },
  {
   "cell_type": "code",
   "execution_count": null,
   "id": "c7a240c2",
   "metadata": {},
   "outputs": [],
   "source": [
    "df = pd.read_csv('onebite_ratings.csv')"
   ]
  },
  {
   "cell_type": "code",
   "execution_count": null,
   "id": "35f487cd",
   "metadata": {},
   "outputs": [],
   "source": [
    "df.sort_values(by='timestamp', inplace=True)"
   ]
  },
  {
   "cell_type": "code",
   "execution_count": null,
   "id": "32631860",
   "metadata": {},
   "outputs": [],
   "source": [
    "df.drop_duplicates(inplace=True)"
   ]
  },
  {
   "cell_type": "code",
   "execution_count": null,
   "id": "e033548a",
   "metadata": {
    "scrolled": true
   },
   "outputs": [],
   "source": [
    "citystate_to_latlng = {}\n",
    "for location in df[['city', 'state-prov']].drop_duplicates().itertuples(index=False, name=None):\n",
    "    while True:\n",
    "        try:\n",
    "            location_string = f'{location[0]}, {location[1]}'\n",
    "            citystate_to_latlng[location_string] = tuple(geocoder.mapquest(location_string, key=MAPQUEST_API_KEY).latlng)\n",
    "            break\n",
    "        except:\n",
    "            print(location_string)\n",
    "            continue"
   ]
  },
  {
   "cell_type": "code",
   "execution_count": null,
   "id": "7efaaefc",
   "metadata": {},
   "outputs": [],
   "source": [
    "df['location'] = df.apply(lambda x: f\"{x['city']}, {x['state-prov']}\", axis=1)"
   ]
  },
  {
   "cell_type": "code",
   "execution_count": null,
   "id": "26d55c04",
   "metadata": {},
   "outputs": [],
   "source": [
    "df['latlng'] = df['location'].map(citystate_to_latlng)"
   ]
  },
  {
   "cell_type": "code",
   "execution_count": null,
   "id": "4fcbf1c4",
   "metadata": {},
   "outputs": [],
   "source": [
    "pres_df = df[df['user'] == 'stoolpresidente'].reset_index(drop=True)\n",
    "fans_df = df[(df['user'] != 'stoolpresidente') & (df['rating'] <= 10.0)].reset_index(drop=True)"
   ]
  },
  {
   "cell_type": "code",
   "execution_count": null,
   "id": "ff9c8c24",
   "metadata": {},
   "outputs": [],
   "source": [
    "bins = np.arange(0.0, 10.5, 0.5)\n",
    "pres_rating_counts = pd.cut(pres_df.rating, bins=bins, include_lowest=True).value_counts(sort=False, normalize=True)\n",
    "fans_rating_counts = pd.cut(fans_df.rating, bins=bins, include_lowest=True).value_counts(sort=False, normalize=True)"
   ]
  },
  {
   "cell_type": "code",
   "execution_count": null,
   "id": "ada7f7ee",
   "metadata": {},
   "outputs": [],
   "source": [
    "plt.rcParams['figure.figsize'] = (15, 10)"
   ]
  },
  {
   "cell_type": "code",
   "execution_count": null,
   "id": "1166a4e2",
   "metadata": {
    "scrolled": false
   },
   "outputs": [],
   "source": [
    "plt.title('Distributions of Relative Frequencies of Pres Ratings & Fan Ratings')\n",
    "\n",
    "plt.xticks(rotation = 45)\n",
    "\n",
    "plt.bar(\n",
    "    [str(x) for x in fans_rating_counts.index],\n",
    "    fans_rating_counts.values,\n",
    "    label='Relative Frequencies of Fan Ratings',\n",
    "    color='red'\n",
    ")\n",
    "\n",
    "plt.bar(\n",
    "    [str(x) for x in pres_rating_counts.index],\n",
    "    pres_rating_counts.values,\n",
    "    label='Relative Frequencies of Pres Ratings',\n",
    "    color='blue',\n",
    "    alpha = 0.5\n",
    ")\n",
    "\n",
    "xvals = np.linspace(0, 10, 1000)\n",
    "\n",
    "plt.figtext(0.18, 0.84, 'fans')\n",
    "plt.figtext(0.15, 0.75, fans_df.rating.describe()[['mean', 'std', '25%', '50%', '75%']].to_string())\n",
    "\n",
    "plt.figtext(0.3, 0.84, 'pres')\n",
    "plt.figtext(0.27, 0.75, pres_df.rating.describe()[['mean', 'std', '25%', '50%', '75%']].to_string())\n",
    "\n",
    "plt.legend()\n",
    "plt.savefig('ratings_distribution.png')\n",
    "plt.show()"
   ]
  },
  {
   "cell_type": "code",
   "execution_count": null,
   "id": "464148de",
   "metadata": {
    "scrolled": false
   },
   "outputs": [],
   "source": [
    "plt.title('Ratios of Relative Frequency of Fan Ratings to Pres Ratings')\n",
    "\n",
    "plt.xticks(rotation = 45)\n",
    "\n",
    "rescale = lambda y: 1 if y < 1 else 0\n",
    "cmp = ListedColormap(['red', '#807cfc'])\n",
    "\n",
    "ratios = fans_rating_counts.values / pres_rating_counts.values\n",
    "\n",
    "plt.axhline(y=1, c='black')\n",
    "\n",
    "plt.bar(\n",
    "    [str(x) for x in fans_rating_counts.index],\n",
    "    ratios,\n",
    "    label='Pres Rating Frequencies',\n",
    "    color=cmp((np.vectorize(rescale)(ratios)))\n",
    ")\n",
    "\n",
    "plt.yscale('log')\n",
    "\n",
    "plt.savefig('ratings_distribution_ratio.png')"
   ]
  },
  {
   "cell_type": "code",
   "execution_count": null,
   "id": "f971ba0e",
   "metadata": {
    "scrolled": true
   },
   "outputs": [],
   "source": [
    "usa = geopandas.read_file('usa-states-census-2014.shx')"
   ]
  },
  {
   "cell_type": "code",
   "execution_count": null,
   "id": "694bdf9d",
   "metadata": {
    "scrolled": false
   },
   "outputs": [],
   "source": [
    "cmap = 'plasma'\n",
    "\n",
    "fans_merged = usa.merge(fans_df.groupby('state-prov').rating.mean(), left_on='STUSPS', right_on='state-prov', how='left')\n",
    "pres_merged = usa.merge(pres_df.groupby('state-prov').rating.mean(), left_on='STUSPS', right_on='state-prov', how='left')\n",
    "\n",
    "vmin, vmax = pres_merged.rating.min(), fans_merged.rating.max()\n",
    "\n",
    "fig, ax = plt.subplots()\n",
    "plt.axis('off')\n",
    "\n",
    "fig.set_size_inches(15, 10)\n",
    "\n",
    "fans_merged.plot(\n",
    "    column='rating',\n",
    "    cmap=cmap,\n",
    "    linewidth=0.8,\n",
    "    edgecolor='0.8',\n",
    "    ax=ax,\n",
    "    vmin=vmin,\n",
    "    vmax=vmax\n",
    ")\n",
    "\n",
    "sm = plt.cm.ScalarMappable(cmap=cmap, norm=plt.Normalize(vmin=vmin, vmax=vmax))\n",
    "cbar = fig.colorbar(sm, shrink=0.5, aspect=15)\n",
    "\n",
    "plt.show()\n",
    "\n",
    "\n",
    "fig, ax = plt.subplots()\n",
    "plt.axis('off')\n",
    "\n",
    "fig.set_size_inches(15, 10)\n",
    "\n",
    "pres_merged.plot(\n",
    "    column='rating',\n",
    "    cmap=cmap,\n",
    "    linewidth=0.8,\n",
    "    edgecolor='0.8',\n",
    "    vmin=vmin,\n",
    "    vmax=vmax,\n",
    "    ax=ax,\n",
    "    missing_kwds=dict(color='lightgrey',)\n",
    ")\n",
    "\n",
    "sm = plt.cm.ScalarMappable(cmap=cmap, norm=plt.Normalize(vmin=vmin, vmax=vmax))\n",
    "cbar = fig.colorbar(sm, shrink=0.5, aspect=15)\n",
    "\n",
    "plt.scatter([lng for lat, lng in pres_df[pres_df['state-prov'] != 'ON'].latlng], [lat for lat, lng in pres_df[pres_df['state-prov'] != 'ON'].latlng], s=5, c='white', edgecolor='k',linewidth=0.2)\n",
    "\n",
    "plt.show()"
   ]
  },
  {
   "cell_type": "code",
   "execution_count": null,
   "id": "c827e9e2",
   "metadata": {
    "scrolled": false
   },
   "outputs": [],
   "source": [
    "plt.rcParams['animation.embed_limit'] = 2**128\n",
    "\n",
    "x = []\n",
    "y = []\n",
    "colors = []\n",
    "\n",
    "fig, ax = plt.subplots(figsize=(20, 10))\n",
    "plt.axis('equal')\n",
    "\n",
    "pres_merged.plot(\n",
    "    column='rating',\n",
    "    cmap=cmap,\n",
    "    linewidth=0.8,\n",
    "    edgecolor='0.8',\n",
    "    vmin=vmin,\n",
    "    vmax=vmax,\n",
    "    ax=ax,\n",
    "    missing_kwds=dict(color='lightgrey',)\n",
    ")\n",
    "  \n",
    "def animation_func(i):\n",
    "    coords = pres_df.latlng.iloc[-i]\n",
    "    x.append(coords[1])\n",
    "    y.append(coords[0])\n",
    "    colors.append(pres_df.rating.iloc[-i])\n",
    "    plt.xlim(-130, -60)\n",
    "    plt.ylim(25, 50)\n",
    "    plt.scatter(x, y, c='green', edgecolor='k')\n",
    "\n",
    "animation = FuncAnimation(fig, animation_func, frames=len(pres_df))\n",
    "\n",
    "animation.save('anim.gif')"
   ]
  },
  {
   "cell_type": "code",
   "execution_count": null,
   "id": "518e2099",
   "metadata": {},
   "outputs": [],
   "source": [
    "plt.rcParams['animation.embed_limit'] = 2**128\n",
    "\n",
    "x = []\n",
    "y = []\n",
    "colors = []\n",
    "\n",
    "fig, ax = plt.subplots(figsize=(20, 10))\n",
    "plt.axis('equal')\n",
    "\n",
    "pres_merged.plot(\n",
    "    column='rating',\n",
    "    cmap=cmap,\n",
    "    linewidth=0.8,\n",
    "    edgecolor='0.8',\n",
    "    vmin=vmin,\n",
    "    vmax=vmax,\n",
    "    ax=ax,\n",
    "    missing_kwds=dict(color='lightgrey',)\n",
    ")\n",
    "  \n",
    "def animation_func(i):\n",
    "    coords = pres_df.latlng.iloc[-i]\n",
    "    x.append(coords[1])\n",
    "    y.append(coords[0])\n",
    "    colors.append(pres_df.rating.iloc[-i])\n",
    "    plt.xlim(-130, -60)\n",
    "    plt.ylim(25, 50)\n",
    "    plt.scatter(x, y, c='white', edgecolor='k')\n",
    "\n",
    "animation = FuncAnimation(fig, animation_func, frames=50)\n",
    "\n",
    "animation.save('anim.gif')"
   ]
  },
  {
   "cell_type": "code",
   "execution_count": null,
   "id": "483d0600",
   "metadata": {
    "scrolled": true
   },
   "outputs": [],
   "source": [
    "fans_df['user_cum_reviews_count'] = fans_df.groupby('user').user.cumcount(ascending=True)\n",
    "fans_df['user_total_reviews_count'] = fans_df.user.map(fans_df.groupby('user', sort=False).user.count())\n",
    "\n",
    "pres_df['user_cum_reviews_count'] = pres_df.groupby('user').user.cumcount(ascending=True)\n",
    "pres_df['user_total_reviews_count'] = pres_df.user.map(fans_df.groupby('user', sort=False).user.count())"
   ]
  },
  {
   "cell_type": "code",
   "execution_count": null,
   "id": "abccd973",
   "metadata": {
    "scrolled": false
   },
   "outputs": [],
   "source": [
    "fans_df['user_rating_rolling_average'] = (\n",
    "    fans_df.groupby('user')['rating'].apply(lambda x: x.expanding().mean())\n",
    ")\n",
    "\n",
    "pres_df['user_rating_rolling_average'] = (\n",
    "    pres_df.groupby('user')['rating'].apply(lambda x: x.expanding().mean())\n",
    ")\n",
    "\n",
    "fig, ax1 = plt.subplots()\n",
    "\n",
    "ax2 = ax1.twinx()\n",
    "\n",
    "cum_reviews_count_data = fans_df.groupby('user_cum_reviews_count').user_rating_rolling_average.mean()\n",
    "\n",
    "ax1.set_ylim(6, 8)\n",
    "# plt.xscale('log')\n",
    "\n",
    "ax1.plot(cum_reviews_count_data.index,\n",
    "         cum_reviews_count_data.values\n",
    ")\n",
    "\n",
    "cum_reviews_counts = fans_df.groupby('user_cum_reviews_count').size()\n",
    "\n",
    "ax2.set_yscale('log')\n",
    "\n",
    "ax2.plot(\n",
    "    cum_reviews_counts.index,\n",
    "    cum_reviews_counts.values,\n",
    "    c='orange',\n",
    "    zorder=0\n",
    ")\n",
    "ax1.set_xlabel('Review number')\n",
    "ax1.set_ylabel('Expanding average rating (blue)')\n",
    "ax2.set_ylabel('Number of users who have\\n published x number of reviews (orange)')\n",
    "plt.show()\n",
    "\n",
    "fig.set_size_inches(15, 10)\n",
    "fig.savefig('maturity_effect.png')"
   ]
  },
  {
   "cell_type": "code",
   "execution_count": null,
   "id": "4c778b09",
   "metadata": {
    "scrolled": true
   },
   "outputs": [],
   "source": [
    "x = np.asarray(cum_reviews_count_data.index)[:100] + 1\n",
    "y = np.asarray(cum_reviews_count_data.values)[:100]\n",
    "\n",
    "coeffs = np.polyfit(np.log(x), y, 1)\n",
    "\n",
    "fig, ax = plt.subplots()\n",
    "\n",
    "plotted_x = np.linspace(np.min(x), np.max(x), len(y))\n",
    "ax.plot(x, y)\n",
    "ax.plot(plotted_x, coeffs[0] * np.log(x) + coeffs[1], color='green')\n",
    "\n",
    "fig.set_size_inches(15, 10)\n",
    "fig.savefig('curve_fit.png')"
   ]
  },
  {
   "cell_type": "code",
   "execution_count": null,
   "id": "1f6922a7",
   "metadata": {
    "scrolled": false
   },
   "outputs": [],
   "source": [
    "for _, group in fans_df[fans_df['user_total_reviews_count'] > 300].groupby('user'):\n",
    "    plt.plot(\n",
    "        group.user_cum_reviews_count,\n",
    "        group.user_rating_rolling_average\n",
    "    )\n",
    "    \n",
    "plt.plot(pres_df.user_cum_reviews_count[:400], pres_df.user_rating_rolling_average[:400], c='k', linestyle='dashdot')\n",
    "\n",
    "plt.show()\n",
    "\n",
    "fig, ax = plt.subplots()\n",
    "\n",
    "plt.xticks(list(range(0, 1340, 100)), rotation=45)\n",
    "plt.plot(pres_df.timestamp, pres_df.user_rating_rolling_average, c='k', linestyle='dashdot')\n",
    "fig.set_size_inches(15, 10)\n",
    "fig.savefig('pres_trend.png')"
   ]
  },
  {
   "cell_type": "code",
   "execution_count": null,
   "id": "d5247748",
   "metadata": {
    "scrolled": false
   },
   "outputs": [],
   "source": [
    "daily_average_rating = fans_df.groupby('timestamp').rating.mean().rolling(100).mean()\n",
    "\n",
    "plt.ylim(5, 9)\n",
    "\n",
    "plt.xticks(list(range(0, len(daily_average_rating), 100)), rotation=45)\n",
    "\n",
    "plt.plot(daily_average_rating.index, daily_average_rating.values)"
   ]
  },
  {
   "cell_type": "code",
   "execution_count": null,
   "id": "93e560d0",
   "metadata": {
    "scrolled": true
   },
   "outputs": [],
   "source": [
    "%store fans_df\n",
    "%store pres_df"
   ]
  }
 ],
 "metadata": {
  "kernelspec": {
   "display_name": "Python 3",
   "language": "python",
   "name": "python3"
  },
  "language_info": {
   "codemirror_mode": {
    "name": "ipython",
    "version": 3
   },
   "file_extension": ".py",
   "mimetype": "text/x-python",
   "name": "python",
   "nbconvert_exporter": "python",
   "pygments_lexer": "ipython3",
   "version": "3.8.8"
  }
 },
 "nbformat": 4,
 "nbformat_minor": 5
}
